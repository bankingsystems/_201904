{
 "cells": [
  {
   "cell_type": "code",
   "execution_count": 1,
   "metadata": {},
   "outputs": [],
   "source": [
    "%load_ext autoreload\n",
    "%autoreload 2"
   ]
  },
  {
   "cell_type": "code",
   "execution_count": 1,
   "metadata": {},
   "outputs": [],
   "source": [
    "import pandas as pd\n",
    "from mesaabba.model import MesaAbba\n",
    "from mesaabba.agents import Bank, Saver, Loan, Ibloan"
   ]
  },
  {
   "cell_type": "code",
   "execution_count": 2,
   "metadata": {},
   "outputs": [],
   "source": [
    "model = MesaAbba(initial_saver=10000, \n",
    "                  initial_bank=10, \n",
    "                  initial_loan=20000, \n",
    "                  initial_equity=100,\n",
    "                  rfree=0.01, \n",
    "                  car=0.08\n",
    "                 )"
   ]
  },
  {
   "cell_type": "code",
   "execution_count": 3,
   "metadata": {},
   "outputs": [
    {
     "name": "stdout",
     "output_type": "stream",
     "text": [
      "Bank0 - Reserve:    42, Equity:   100, Deposit:   941, Reserve_ratio: 0.045\n",
      "Bank1 - Reserve:    45, Equity:   100, Deposit:  1021, Reserve_ratio: 0.044\n",
      "Bank2 - Reserve:    43, Equity:   100, Deposit:   960, Reserve_ratio: 0.045\n",
      "Bank3 - Reserve:    41, Equity:   100, Deposit:   925, Reserve_ratio: 0.044\n",
      "Bank4 - Reserve:    46, Equity:   100, Deposit:  1036, Reserve_ratio: 0.044\n",
      "Bank5 - Reserve:    46, Equity:   100, Deposit:  1025, Reserve_ratio: 0.045\n",
      "Bank6 - Reserve:    44, Equity:   100, Deposit:   982, Reserve_ratio: 0.045\n",
      "Bank7 - Reserve:    47, Equity:   100, Deposit:  1064, Reserve_ratio: 0.044\n",
      "Bank8 - Reserve:    47, Equity:   100, Deposit:  1049, Reserve_ratio: 0.045\n",
      "Bank9 - Reserve:    44, Equity:   100, Deposit:   997, Reserve_ratio: 0.044\n"
     ]
    }
   ],
   "source": [
    "for x in [x for x in model.schedule.agents if isinstance(x, Bank)]:\n",
    "    print(\"Bank{0:1d} - Reserve: {1:5.0f}, Equity: {2:5.0f}, Deposit: {3:5.0f}, Reserve_ratio: {4:5.3f}\".format(x.pos, x.bank_reserves, x.equity, x.bank_deposits, x.reserves_ratio))"
   ]
  },
  {
   "cell_type": "code",
   "execution_count": 4,
   "metadata": {},
   "outputs": [
    {
     "name": "stdout",
     "output_type": "stream",
     "text": [
      " STEP0 - # of sovent bank: 10\n",
      " STEP10 - # of sovent bank: 10\n"
     ]
    }
   ],
   "source": [
    "[res_bank, res_ibloan] = model.run_model(step_count = 20)"
   ]
  },
  {
   "cell_type": "code",
   "execution_count": 2,
   "metadata": {},
   "outputs": [
    {
     "data": {
      "text/plain": [
       "'0.8.5'"
      ]
     },
     "execution_count": 2,
     "metadata": {},
     "output_type": "execute_result"
    }
   ],
   "source": []
  },
  {
   "cell_type": "code",
   "execution_count": null,
   "metadata": {},
   "outputs": [],
   "source": []
  }
 ],
 "metadata": {
  "kernelspec": {
   "display_name": "Python 3",
   "language": "python",
   "name": "python3"
  },
  "language_info": {
   "codemirror_mode": {
    "name": "ipython",
    "version": 3
   },
   "file_extension": ".py",
   "mimetype": "text/x-python",
   "name": "python",
   "nbconvert_exporter": "python",
   "pygments_lexer": "ipython3",
   "version": "3.6.4"
  }
 },
 "nbformat": 4,
 "nbformat_minor": 2
}
